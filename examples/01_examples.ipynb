{
 "cells": [
  {
   "cell_type": "markdown",
   "metadata": {},
   "source": [
    "# The Rouse model\n",
    "In the Rouse model, a polymer chain is described as point particles in viscous medium, that are chained to each other by harmonic bonds. The forces exerted by these bonds are simply linear in the separation between successive monomers, such that the equation of motion for a linear Rouse polymer reads\n",
    "\\begin{equation}\\label{eq:vanilla}\n",
    "\\dot{x}_i(t) = k(x_{i+1}(t) - x_i(t)) + k(x_{i-1}(t) - x_i(t)) + \\xi_i(t)\\,, \\tag{1}\n",
    "\\end{equation}\n",
    "where $x_i(t)$ is the position of the $i$-th monomer at time $t$, $k$ is the spring constant of the harmonic bonds, and $\\xi(t)$ is thermal noise; its strength is given by the free diffusion constant $D$ of an individual monomer:\n",
    "\\begin{equation}\n",
    "\\left\\langle \\xi_i(t)\\xi_j(t') \\right\\rangle = 2D\\delta_{ij}\\delta(t-t')\\,.\n",
    "\\end{equation}\n",
    "\n",
    "In principle the $x_i$ are vectors in $d$ spatial dimensions; however, due to the linear equation of motion, driven by dimensionally uncorrelated white noise, the spatial dimensions fully decouple, such that we can specialize the analytical treatment to 1D for convenience.\n",
    "\n",
    "In fact, this linearity is the only fact we need to give the full analytical solution to the model, so let's generalize the equation of motion to\n",
    "\\begin{equation}\\label{eq:eom}\n",
    "\\dot{x}(t) = -kAx(t) + F + \\xi(t)\\,, \\tag{2}\n",
    "\\end{equation}\n",
    "where now $x \\equiv (x_1, x_2, \\ldots, x_N)$, $F$, and $\\xi \\equiv (\\xi_1, \\xi_2, \\ldots, \\xi_N)$ are vectors encoding the full conformation of the polymer, any deterministic force acting on it, and the thermal fluctuations of each monomer, respectively. $k$ is the \"default\" bond strength (see below).\n",
    "\n",
    "The matrix $A$ encodes the connectivity of the chain, i.e. which monomer is bound to which and how strongly. From eq. \\eqref{eq:vanilla} we can see that for a simple linear chain the connectivity $A$ would be\n",
    "\\begin{equation}\n",
    "A = \\left(\\begin{array}{ccccc}\n",
    "1 & -1 &    &    &    &    \\\\\n",
    "-1 &  2 & -1 &    &    &    \\\\\n",
    "& -1 &  2 & -1 &    &    \\\\\n",
    "&    &    & \\ddots & &   \\\\\n",
    "&    &    & -1 &  2 & -1 \\\\\n",
    "&    &    &    & -1 & 1  \\\\\n",
    "\\end{array}\\right)\\,.\n",
    "\\end{equation}\n",
    "But of course we could insert more bonds into this matrix, or remove some; to insert a bond of strength $rk$ between monomers $i$ and $j$, we do the following substitutions:\n",
    "\\begin{equation}\n",
    "A_{ij} \\gets A_{ij} - r \\,;\\qquad A_{ji} \\gets A_{ji} - r \\,;\\qquad A_{ii} \\gets A_{ii} + r \\,;\\qquad A_{jj} \\gets A_{jj} + r \\,.\n",
    "\\end{equation}\n",
    "Of course this means we can remove an existing bond by inserting a bond with $r < 0$.\n",
    "\n",
    "The solution to eq. \\eqref{eq:eom} is relatively straight-forward and forms the basis of this module:\n",
    "\\begin{equation}\\label{eq:sol}\n",
    "x(t) = \\mathrm{e}^{-kAt}x(0) + \\int_0^t\\mathrm{d}\\tau\\, \\mathrm{e}^{-kA(t-\\tau)}\\left(F + \\xi(\\tau)\\right)\\,. \\tag{3}\n",
    "\\end{equation}\n",
    "\n",
    "The `rouse` module now essentially provides various useful ways to evaluate that expression and a few related things. Specifically:\n",
    "\n",
    "+ evolving a conformation $x(t)$ forward for some time $\\Delta t$\n",
    "+ calculating the steady state ensemble of conformations. Taking $t\\to\\infty$ in eq. \\eqref{eq:sol}, we find\n",
    "\n",
    "\\begin{align}\n",
    "\\left\\langle x\\right\\rangle_\\text{ss} {}={}& (kA)^{-1} F \\,, \\\\\n",
    "\\left\\langle x^2\\right\\rangle_\\text{c, ss} {}={}& (2kA)^{-1} \\,.\n",
    "\\end{align}\n",
    "\n",
    "+ propagating Gaussian ensembles of conformations forward in time\n",
    "+ evaluating the analytical expression for mean squared displacement (MSD) of a given combination of loci\n",
    "\n",
    "Seeing how all of these work is essentially the to-do list for this tutorial. So let's start by setting up a ``rouse.Model``."
   ]
  },
  {
   "cell_type": "code",
   "execution_count": null,
   "metadata": {},
   "outputs": [],
   "source": [
    "import numpy as np\n",
    "from matplotlib import pyplot as plt\n",
    "import rouse"
   ]
  },
  {
   "cell_type": "markdown",
   "metadata": {},
   "source": [
    "# Set up\n",
    "We start by creating a simple model with 10 monomers:"
   ]
  },
  {
   "cell_type": "code",
   "execution_count": null,
   "metadata": {},
   "outputs": [],
   "source": [
    "model = rouse.Model(N=10)\n",
    "print(model)"
   ]
  },
  {
   "cell_type": "markdown",
   "metadata": {},
   "source": [
    "By default, [rouse.Model](../rouse.rst#rouse.Model) initializes a free, linear polymer. We can check this by taking a look at the connectivity matrix ``A`` and the external force ``F``:"
   ]
  },
  {
   "cell_type": "code",
   "execution_count": null,
   "metadata": {},
   "outputs": [],
   "source": [
    "print(\"Connectivity A\")\n",
    "print(model.A)\n",
    "print()\n",
    "print(\"External force F\")\n",
    "print(model.F)"
   ]
  }
 ],
 "metadata": {
  "kernelspec": {
   "display_name": "Python 3",
   "language": "python",
   "name": "python3"
  },
  "language_info": {
   "codemirror_mode": {
    "name": "ipython",
    "version": 3
   },
   "file_extension": ".py",
   "mimetype": "text/x-python",
   "name": "python",
   "nbconvert_exporter": "python",
   "pygments_lexer": "ipython3",
   "version": "3.7.3"
  }
 },
 "nbformat": 4,
 "nbformat_minor": 2
}
