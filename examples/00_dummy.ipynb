{
 "cells": [
  {
   "cell_type": "markdown",
   "metadata": {},
   "source": [
    "# Dummy\n",
    "This is a dummy notebook to catch\n",
    "```\n",
    "Matplotlib is building the font cache; this may take a moment.\n",
    "```\n",
    "This warning is issued when running matplotlib the first time on a new system, i.e. during the ``readthedocs.org``\n",
    "build. By including this file we are trading a visible warning in the docs for a warning when building the sphinx docs\n",
    "\n",
    "Whoever reads this should just ignore this file"
   ]
  },
  {
   "cell_type": "code",
   "execution_count": null,
   "metadata": {},
   "outputs": [],
   "source": [
    "from matplotlib import pyplot"
   ]
  }
 ],
 "metadata": {
  "kernelspec": {
   "display_name": "Python 3",
   "language": "python",
   "name": "python3"
  },
  "language_info": {
   "codemirror_mode": {
    "name": "ipython",
    "version": 3
   },
   "file_extension": ".py",
   "mimetype": "text/x-python",
   "name": "python",
   "nbconvert_exporter": "python",
   "pygments_lexer": "ipython3",
   "version": "3.7.3"
  }
 },
 "nbformat": 4,
 "nbformat_minor": 2
}
